{
 "cells": [
  {
   "cell_type": "markdown",
   "id": "2a2124e5",
   "metadata": {},
   "source": [
    "# Chaining Agents\n"
   ]
  },
  {
   "cell_type": "code",
   "execution_count": 1,
   "id": "e82b697d",
   "metadata": {},
   "outputs": [],
   "source": [
    "MODEL_NAME = \"text-davinci-003\"\n",
    "from langchain.llms import OpenAI"
   ]
  },
  {
   "cell_type": "code",
   "execution_count": 2,
   "id": "2223be84",
   "metadata": {},
   "outputs": [],
   "source": [
    "llm = OpenAI(model_name=MODEL_NAME, temperature=0.9)"
   ]
  },
  {
   "cell_type": "code",
   "execution_count": 3,
   "id": "0d480420",
   "metadata": {},
   "outputs": [
    {
     "name": "stdout",
     "output_type": "stream",
     "text": [
      "\n",
      "\n",
      "1. Hawaii - Enjoy fresh pineapple, papaya, mango, banana, and guava.\n",
      "2. Thailand - Enjoy tropical fruit like durian, rambutan, mangosteen, and lychee.\n",
      "3. Costa Rica - Enjoy exotic tropical fruits such as cas, mamoncillo, passion fruit, and carambola.\n",
      "4. California - Enjoy citrus fruits like oranges, grapefruits, and tangerines.\n",
      "5. India - Enjoy tropical fruits such as mango, pineapple, and banana, as well as exotic fruits like lychee, guava, and jackfruit.\n"
     ]
    }
   ],
   "source": [
    "text = \"What are 5 vacation destinations for someone who likes to eat fruit?\"\n",
    "print(llm(text))"
   ]
  },
  {
   "cell_type": "markdown",
   "id": "08705d74",
   "metadata": {},
   "source": [
    "## Templatize prompts"
   ]
  },
  {
   "cell_type": "code",
   "execution_count": 4,
   "id": "9a3fc81c",
   "metadata": {},
   "outputs": [],
   "source": [
    "from langchain.prompts import PromptTemplate"
   ]
  },
  {
   "cell_type": "code",
   "execution_count": 5,
   "id": "72d525ae",
   "metadata": {},
   "outputs": [],
   "source": [
    "prompt_template = PromptTemplate(\n",
    "    template=\"What are 5 vacation destinations for someone who likes to eat {food}?\",\n",
    "    input_variables=[\"food\"]\n",
    ")"
   ]
  },
  {
   "cell_type": "code",
   "execution_count": 6,
   "id": "c2fdd82d",
   "metadata": {},
   "outputs": [],
   "source": [
    "from langchain.chains import LLMChain\n",
    "\n",
    "chain = LLMChain(llm=llm, prompt=prompt_template)"
   ]
  },
  {
   "cell_type": "code",
   "execution_count": 7,
   "id": "7677960b",
   "metadata": {},
   "outputs": [
    {
     "name": "stdout",
     "output_type": "stream",
     "text": [
      "\n",
      "\n",
      "1. London, UK - Home to the classic British sandwich, including the Cheese and Pickle Sandwich. \n",
      "2. New Orleans, USA - Famous for its Po' Boys featuring classic Cajun flavors.\n",
      "3. Mexico City, Mexico - Enjoy Mexican-style sandwiches like the Torta Ahogada, a pork sandwich drenched in spicy tomato sauce.\n",
      "4. Rome, Italy - Indulge in its traditional Ciabatta sandwiches such as the Porchetta Sandwich.\n",
      "5. Marrakech, Morocco - Enjoy the Kofta sandwich, a meatball sandwich served with yogurt and tahini.\n"
     ]
    }
   ],
   "source": [
    "print(chain.run(\"sandwiches\"))"
   ]
  },
  {
   "cell_type": "code",
   "execution_count": 8,
   "id": "ee6ea70f",
   "metadata": {},
   "outputs": [
    {
     "name": "stdout",
     "output_type": "stream",
     "text": [
      "\n",
      "\n",
      "1. The Swiss Alps\n",
      "2. Cadbury World in Birmingham, England\n",
      "3. Belgium\n",
      "4. Hershey, Pennsylvania \n",
      "5. ChocoStory Museum in Paris, France\n"
     ]
    }
   ],
   "source": [
    "print(chain.run(\"chocolate\"))"
   ]
  },
  {
   "cell_type": "code",
   "execution_count": null,
   "id": "f2e31553",
   "metadata": {},
   "outputs": [],
   "source": []
  }
 ],
 "metadata": {
  "kernelspec": {
   "display_name": "Python 3 (ipykernel)",
   "language": "python",
   "name": "python3"
  },
  "language_info": {
   "codemirror_mode": {
    "name": "ipython",
    "version": 3
   },
   "file_extension": ".py",
   "mimetype": "text/x-python",
   "name": "python",
   "nbconvert_exporter": "python",
   "pygments_lexer": "ipython3",
   "version": "3.9.16"
  }
 },
 "nbformat": 4,
 "nbformat_minor": 5
}
