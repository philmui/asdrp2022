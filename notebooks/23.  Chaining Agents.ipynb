{
 "cells": [
  {
   "cell_type": "markdown",
   "id": "c4fc4cf7",
   "metadata": {},
   "source": [
    "# Chaining Agents\n"
   ]
  },
  {
   "cell_type": "code",
   "execution_count": 1,
   "id": "0389b099",
   "metadata": {},
   "outputs": [],
   "source": [
    "MODEL_NAME = \"text-davinci-003\"\n",
    "from langchain.llms import OpenAI"
   ]
  },
  {
   "cell_type": "code",
   "execution_count": 2,
   "id": "ce84e9d4",
   "metadata": {},
   "outputs": [],
   "source": [
    "llm = OpenAI(model_name=MODEL_NAME, temperature=0.9)"
   ]
  },
  {
   "cell_type": "code",
   "execution_count": 3,
   "id": "043260fe",
   "metadata": {},
   "outputs": [
    {
     "name": "stdout",
     "output_type": "stream",
     "text": [
      "\n",
      "\n",
      "1. Hawaii - Enjoy fresh pineapple, papaya, mango, banana, and guava.\n",
      "2. Thailand - Enjoy tropical fruit like durian, rambutan, mangosteen, and lychee.\n",
      "3. Costa Rica - Enjoy exotic tropical fruits such as cas, mamoncillo, passion fruit, and carambola.\n",
      "4. California - Enjoy citrus fruits like oranges, grapefruits, and tangerines.\n",
      "5. India - Enjoy tropical fruits such as mango, pineapple, and banana, as well as exotic fruits like lychee, guava, and jackfruit.\n"
     ]
    }
   ],
   "source": [
    "text = \"What are 5 vacation destinations for someone who likes to eat fruit?\"\n",
    "print(llm(text))"
   ]
  },
  {
   "cell_type": "markdown",
   "id": "e0364366",
   "metadata": {},
   "source": [
    "## Templatize prompts"
   ]
  },
  {
   "cell_type": "code",
   "execution_count": 4,
   "id": "34a5cd7b",
   "metadata": {},
   "outputs": [],
   "source": [
    "from langchain.prompts import PromptTemplate"
   ]
  },
  {
   "cell_type": "code",
   "execution_count": 5,
   "id": "3cee3aec",
   "metadata": {},
   "outputs": [],
   "source": [
    "prompt_template = PromptTemplate(\n",
    "    template=\"What are 5 vacation destinations for someone who likes to eat {food}?\",\n",
    "    input_variables=[\"food\"]\n",
    ")"
   ]
  },
  {
   "cell_type": "code",
   "execution_count": 6,
   "id": "eee24b4c",
   "metadata": {},
   "outputs": [],
   "source": [
    "from langchain.chains import LLMChain\n",
    "\n",
    "chain = LLMChain(llm=llm, prompt=prompt_template)"
   ]
  },
  {
   "cell_type": "code",
   "execution_count": 7,
   "id": "54299d13",
   "metadata": {},
   "outputs": [
    {
     "name": "stdout",
     "output_type": "stream",
     "text": [
      "\n",
      "\n",
      "1. London, UK - Home to the classic British sandwich, including the Cheese and Pickle Sandwich. \n",
      "2. New Orleans, USA - Famous for its Po' Boys featuring classic Cajun flavors.\n",
      "3. Mexico City, Mexico - Enjoy Mexican-style sandwiches like the Torta Ahogada, a pork sandwich drenched in spicy tomato sauce.\n",
      "4. Rome, Italy - Indulge in its traditional Ciabatta sandwiches such as the Porchetta Sandwich.\n",
      "5. Marrakech, Morocco - Enjoy the Kofta sandwich, a meatball sandwich served with yogurt and tahini.\n"
     ]
    }
   ],
   "source": [
    "print(chain.run(\"sandwiches\"))"
   ]
  },
  {
   "cell_type": "code",
   "execution_count": 8,
   "id": "661e26f9",
   "metadata": {},
   "outputs": [
    {
     "name": "stdout",
     "output_type": "stream",
     "text": [
      "\n",
      "\n",
      "1. The Swiss Alps\n",
      "2. Cadbury World in Birmingham, England\n",
      "3. Belgium\n",
      "4. Hershey, Pennsylvania \n",
      "5. ChocoStory Museum in Paris, France\n"
     ]
    }
   ],
   "source": [
    "print(chain.run(\"chocolate\"))"
   ]
  },
  {
   "cell_type": "markdown",
   "id": "ab3c7abb",
   "metadata": {},
   "source": [
    "## Multi-steps Reasoning Agents"
   ]
  },
  {
   "cell_type": "code",
   "execution_count": 9,
   "id": "f5b10f3a",
   "metadata": {},
   "outputs": [],
   "source": [
    "from langchain.agents import load_tools\n",
    "from langchain.agents import initialize_agent"
   ]
  },
  {
   "cell_type": "code",
   "execution_count": 10,
   "id": "00cb8c69",
   "metadata": {},
   "outputs": [],
   "source": [
    "# you must set an env variable for \"SERPAPI_API_KEY\"\n",
    "# llm = OpenAI(model_name=MODEL_NAME, temperature=0.9)\n",
    "\n",
    "tools = load_tools([\"serpapi\", \"llm-math\"], llm=llm)"
   ]
  },
  {
   "cell_type": "code",
   "execution_count": 11,
   "id": "ded33ae7",
   "metadata": {},
   "outputs": [],
   "source": [
    "# instantiate a live agent that comes LLM with the above tools\n",
    "\n",
    "agent = initialize_agent(tools, llm, agent=\"zero-shot-react-description\", verbose=True)"
   ]
  },
  {
   "cell_type": "code",
   "execution_count": 12,
   "id": "5c3dd350",
   "metadata": {},
   "outputs": [
    {
     "name": "stdout",
     "output_type": "stream",
     "text": [
      "\n",
      "\n",
      "\u001b[1m> Entering new AgentExecutor chain...\u001b[0m\n",
      "\u001b[32;1m\u001b[1;3m I need to figure out who the South Korean leader is, what his favorite song is, and what his age is. \n",
      "Action: Search\n",
      "Action Input: Current leader of South Korea\u001b[0m\n",
      "Observation: \u001b[36;1m\u001b[1;3mYoon Suk Yeol\u001b[0m\n",
      "Thought:\u001b[32;1m\u001b[1;3m Now I need to find out what his favorite song is and what his age is.\n",
      "Action: Search\n",
      "Action Input: Yoon Suk Yeol favorite song\u001b[0m\n",
      "Observation: \u001b[36;1m\u001b[1;3mAfter Yoon revealed that the American karaoke bar classic was his favorite song in school, President Joe Biden coaxed him into delivering a ...\u001b[0m\n",
      "Thought:\u001b[32;1m\u001b[1;3m I need to find out what the song is.\n",
      "Action: Search\n",
      "Action Input: American karaoke bar classic\u001b[0m\n",
      "Observation: \u001b[36;1m\u001b[1;3mTop United States Karaoke Bars: See reviews and photos of Karaoke Bars in United States, North America on Tripadvisor.\u001b[0m\n",
      "Thought:\u001b[32;1m\u001b[1;3m Now I need to find out the current leader's age.\n",
      "Action: Search\n",
      "Action Input: Yoon Suk Yeol age\u001b[0m\n",
      "Observation: \u001b[36;1m\u001b[1;3m62 years\u001b[0m\n",
      "Thought:\u001b[32;1m\u001b[1;3m I now know the final answer.\n",
      "Final Answer: The current leader of South Korea is Yoon Suk Yeol, his favorite song is an American karaoke bar classic, and he is 62 years old.\u001b[0m\n",
      "\n",
      "\u001b[1m> Finished chain.\u001b[0m\n"
     ]
    },
    {
     "data": {
      "text/plain": [
       "'The current leader of South Korea is Yoon Suk Yeol, his favorite song is an American karaoke bar classic, and he is 62 years old.'"
      ]
     },
     "execution_count": 12,
     "metadata": {},
     "output_type": "execute_result"
    }
   ],
   "source": [
    "agent.run(\"Who is the current leader of South Korea?  What is his favorite song?  What is his age?\")"
   ]
  },
  {
   "cell_type": "code",
   "execution_count": null,
   "id": "009975e3",
   "metadata": {},
   "outputs": [],
   "source": []
  }
 ],
 "metadata": {
  "kernelspec": {
   "display_name": "Python 3 (ipykernel)",
   "language": "python",
   "name": "python3"
  },
  "language_info": {
   "codemirror_mode": {
    "name": "ipython",
    "version": 3
   },
   "file_extension": ".py",
   "mimetype": "text/x-python",
   "name": "python",
   "nbconvert_exporter": "python",
   "pygments_lexer": "ipython3",
   "version": "3.9.16"
  }
 },
 "nbformat": 4,
 "nbformat_minor": 5
}
