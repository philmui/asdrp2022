{
 "cells": [
  {
   "cell_type": "markdown",
   "id": "0a7149e2",
   "metadata": {},
   "source": [
    "# Text Generation"
   ]
  },
  {
   "cell_type": "code",
   "execution_count": 1,
   "id": "81707494",
   "metadata": {},
   "outputs": [],
   "source": [
    "from pprint import pprint"
   ]
  },
  {
   "cell_type": "code",
   "execution_count": 2,
   "id": "b34eb058",
   "metadata": {},
   "outputs": [],
   "source": [
    "import numpy as np\n",
    "import pandas as pd\n",
    "import seaborn as sns\n",
    "import matplotlib.pyplot as plt\n",
    "from transformers import pipeline"
   ]
  },
  {
   "cell_type": "code",
   "execution_count": 3,
   "id": "2835999f",
   "metadata": {},
   "outputs": [],
   "source": [
    "transformer = pipeline('text-generation', model='gpt2')"
   ]
  },
  {
   "cell_type": "code",
   "execution_count": 4,
   "id": "dce3e537",
   "metadata": {},
   "outputs": [],
   "source": [
    "prompt = \"What is HuggingFace?\""
   ]
  },
  {
   "cell_type": "code",
   "execution_count": 5,
   "id": "68b034b1",
   "metadata": {},
   "outputs": [],
   "source": [
    "output = transformer(prompt,\n",
    "                     max_length=200,\n",
    "                     pad_token_id=50256)"
   ]
  },
  {
   "cell_type": "code",
   "execution_count": 7,
   "id": "11194c05",
   "metadata": {},
   "outputs": [
    {
     "name": "stdout",
     "output_type": "stream",
     "text": [
      "('What is HuggingFace?\\n'\n",
      " '\\n'\n",
      " 'In the original game, this button has a very low rate of press, so in order '\n",
      " 'to increase or decrease the rate of press, you have to hold the Alt key '\n",
      " 'while pressing it.\\n'\n",
      " '\\n'\n",
      " 'What does it mean?\\n'\n",
      " '\\n'\n",
      " 'It means the game is using an old keyboard layout for pressing it. This '\n",
      " 'creates a big pressure gauge for your eyes when you focus your finger on the '\n",
      " 'top of the screen. When you hold down the Alt key, the gauge will show up on '\n",
      " 'the back of the controller.\\n'\n",
      " '\\n'\n",
      " 'What can I buy it for?\\n'\n",
      " '\\n'\n",
      " 'Just make sure you order in order to receive the game after the Kickstarter '\n",
      " 'campaign. You will have 1 item!\\n'\n",
      " '\\n'\n",
      " 'How can I buy it?\\n'\n",
      " '\\n'\n",
      " 'Get the game on Steam, itch.io/projects/soulhq and then pay shipping. '\n",
      " 'Shipping to the US or Canada is the cheapest thing ever. Check the shipping '\n",
      " 'information for more details.\\n'\n",
      " '\\n'\n",
      " \"Don't forget that\")\n"
     ]
    }
   ],
   "source": [
    "pprint(output[0]['generated_text'])"
   ]
  },
  {
   "cell_type": "code",
   "execution_count": 8,
   "id": "2531e87e",
   "metadata": {},
   "outputs": [],
   "source": [
    "gpt3 = pipeline('text-generation', model=\"EleutherAI/gpt-neo-1.3B\")"
   ]
  },
  {
   "cell_type": "code",
   "execution_count": 9,
   "id": "1db63b9f",
   "metadata": {},
   "outputs": [],
   "source": [
    "output = gpt3(prompt,\n",
    "              max_length=200,\n",
    "              pad_token_id=50256)"
   ]
  },
  {
   "cell_type": "code",
   "execution_count": 11,
   "id": "64da7f45",
   "metadata": {},
   "outputs": [
    {
     "data": {
      "text/plain": [
       "'What is HuggingFace?\\n\\n“HUGGINGFACE is very similar to hugging. But for the HuggingFace, the person is touching with their whole body and face, and holding the arms that are stretched out.”\\n\\nHow is HuggingFace different from hugging?\\n\\nLike having a hug, HuggingFace is when you hug someone who is very close to you. But instead of touching your partner with their whole body, hugging is when they hold you and hug. In other words, hugging is when you hug people who are very weak in their arms.\\n\\nSo, how would you describe this form of hugging?\\n\\nIn our research, we were able to differentiate between each of the three forms of hugging:\\n\\nHugs that are:\\n\\nHuggingFace: The HuggingFace is very similar to hugs. It’s when you hug someone very close to you, not with your entire bodies, but with the'"
      ]
     },
     "execution_count": 11,
     "metadata": {},
     "output_type": "execute_result"
    }
   ],
   "source": [
    "pprint(output[0]['generated_text'])"
   ]
  },
  {
   "cell_type": "code",
   "execution_count": 12,
   "id": "c31d58ec",
   "metadata": {},
   "outputs": [],
   "source": [
    "output = gpt3(\"What is utilitarianism?\",\n",
    "              max_length=200,\n",
    "              pad_token_id=50256)"
   ]
  },
  {
   "cell_type": "code",
   "execution_count": 13,
   "id": "d72a34c6",
   "metadata": {},
   "outputs": [
    {
     "name": "stdout",
     "output_type": "stream",
     "text": [
      "('What is utilitarianism?\\n'\n",
      " 'Is there a real difference between the two concepts, or is utilitarianism '\n",
      " 'just a name for a particular method of doing the right thing?\\n'\n",
      " '\\n'\n",
      " 'A:\\n'\n",
      " '\\n'\n",
      " 'In theory, they are totally different. To start with, utilitarianism is '\n",
      " 'based on doing the best possible thing, which is something that can be '\n",
      " 'measured by numbers like life expectancy, health outcomes, environmental '\n",
      " \"damage etc., whereas utilitarianism is based on what happens to you, so it's \"\n",
      " \"a concept that relates to the human experience. You can't have one without \"\n",
      " \"the other, so utilitarianism is not about 'doing the best thing', it is \"\n",
      " 'about what you think happens to you. Hence, utilitarianism does not apply to '\n",
      " 'the physical world, it is about the experience of human life.\\n'\n",
      " \"Then again, if you're thinking about ethical behaviour, it wouldn't \"\n",
      " \"necessarily make sense to use the term utilitarianism, but if you're \"\n",
      " 'thinking about scientific behaviour, it might make sense if you can prove a')\n"
     ]
    }
   ],
   "source": [
    "pprint(output[0]['generated_text'])"
   ]
  },
  {
   "cell_type": "code",
   "execution_count": null,
   "id": "4440b20d",
   "metadata": {},
   "outputs": [],
   "source": []
  }
 ],
 "metadata": {
  "kernelspec": {
   "display_name": "Python 3",
   "language": "python",
   "name": "python3"
  },
  "language_info": {
   "codemirror_mode": {
    "name": "ipython",
    "version": 3
   },
   "file_extension": ".py",
   "mimetype": "text/x-python",
   "name": "python",
   "nbconvert_exporter": "python",
   "pygments_lexer": "ipython3",
   "version": "3.9.12"
  }
 },
 "nbformat": 4,
 "nbformat_minor": 5
}
