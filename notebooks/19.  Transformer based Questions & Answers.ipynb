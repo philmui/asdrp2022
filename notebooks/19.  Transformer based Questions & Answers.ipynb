{
 "cells": [
  {
   "cell_type": "markdown",
   "id": "ea885a9a",
   "metadata": {},
   "source": [
    "# Transformer based Questions & Answers"
   ]
  },
  {
   "cell_type": "code",
   "execution_count": 1,
   "id": "7e524368",
   "metadata": {},
   "outputs": [],
   "source": [
    "import numpy as np\n",
    "import pandas as pd\n",
    "import seaborn as sns\n",
    "import matplotlib.pyplot as plt\n",
    "from transformers import pipeline\n",
    "from pprint import pprint"
   ]
  },
  {
   "cell_type": "markdown",
   "id": "07138fd5",
   "metadata": {},
   "source": [
    "## What is a Question & Answer system?\n",
    "\n",
    "A question & answer (Q&A) system is a type of technology or software application that is designed to automatically respond to user inquiries in the form of natural language questions. It uses artificial intelligence and machine learning algorithms to understand the user's intent and provide accurate and relevant answers, often by retrieving information from a database or external sources. The main goal of a Q&A system is to simplify and enhance the process of finding information and to provide users with fast and convenient access to answers.\n",
    "\n",
    "## Extractive Q&A System based on SQuAD\n",
    "\n",
    "Stanford Question Answering Dataset (SQuAD) is a reading comprehension dataset, consisting of questions posed by crowdworkers on a set of Wikipedia articles, where the answer to every question is a segment of text, or span, from the corresponding reading passage, or the question might be unanswerable."
   ]
  },
  {
   "cell_type": "code",
   "execution_count": 2,
   "id": "756a8506",
   "metadata": {},
   "outputs": [],
   "source": [
    "qa_transformer = pipeline(\"question-answering\", \n",
    "                          model=\"distilbert-base-cased-distilled-squad\")"
   ]
  },
  {
   "cell_type": "code",
   "execution_count": 3,
   "id": "ea656b18",
   "metadata": {},
   "outputs": [],
   "source": [
    "context = \"Yesterday, I went to a store to buy a lego set and a set of pens.\""
   ]
  },
  {
   "cell_type": "code",
   "execution_count": 4,
   "id": "e8c9952a",
   "metadata": {},
   "outputs": [],
   "source": [
    "question = \"What did I buy?\""
   ]
  },
  {
   "cell_type": "code",
   "execution_count": 5,
   "id": "3789b3f8",
   "metadata": {},
   "outputs": [],
   "source": [
    "answer = qa_transformer(context=context, question=question)"
   ]
  },
  {
   "cell_type": "code",
   "execution_count": 6,
   "id": "6156239f",
   "metadata": {},
   "outputs": [
    {
     "data": {
      "text/plain": [
       "{'score': 0.7277035117149353,\n",
       " 'start': 36,\n",
       " 'end': 64,\n",
       " 'answer': 'a lego set and a set of pens'}"
      ]
     },
     "execution_count": 6,
     "metadata": {},
     "output_type": "execute_result"
    }
   ],
   "source": [
    "answer"
   ]
  },
  {
   "cell_type": "markdown",
   "id": "8eace2ee",
   "metadata": {},
   "source": [
    "## Q&A about the Genesis"
   ]
  },
  {
   "cell_type": "code",
   "execution_count": 7,
   "id": "69121692",
   "metadata": {},
   "outputs": [],
   "source": [
    "GENESIS_FILE = \"../data/genesis.txt\""
   ]
  },
  {
   "cell_type": "code",
   "execution_count": 8,
   "id": "00fd2882",
   "metadata": {},
   "outputs": [],
   "source": [
    "with open(GENESIS_FILE, \"r\") as file:\n",
    "    genesis = file.read()"
   ]
  },
  {
   "cell_type": "code",
   "execution_count": 12,
   "id": "2431f6ee",
   "metadata": {},
   "outputs": [
    {
     "data": {
      "text/plain": [
       "'Chapter 1\\n\\n[1:1] In the beginning when God created the heavens and the earth,\\n[1'"
      ]
     },
     "execution_count": 12,
     "metadata": {},
     "output_type": "execute_result"
    }
   ],
   "source": [
    "genesis[:80]"
   ]
  },
  {
   "cell_type": "code",
   "execution_count": 13,
   "id": "e2e1f7e1",
   "metadata": {},
   "outputs": [],
   "source": [
    "question = \"Who is Adam's wife?\""
   ]
  },
  {
   "cell_type": "code",
   "execution_count": 14,
   "id": "c5455c72",
   "metadata": {},
   "outputs": [
    {
     "data": {
      "text/plain": [
       "{'score': 0.9935762882232666, 'start': 10249, 'end': 10252, 'answer': 'Eve'}"
      ]
     },
     "execution_count": 14,
     "metadata": {},
     "output_type": "execute_result"
    }
   ],
   "source": [
    "qa_transformer(context=genesis, question=question)"
   ]
  },
  {
   "cell_type": "code",
   "execution_count": 15,
   "id": "fc946868",
   "metadata": {},
   "outputs": [],
   "source": [
    "question = \"How many languages were spoken for people living in the Tower of Babel?\""
   ]
  },
  {
   "cell_type": "code",
   "execution_count": 16,
   "id": "1913d676",
   "metadata": {},
   "outputs": [
    {
     "data": {
      "text/plain": [
       "{'score': 0.3431532680988312,\n",
       " 'start': 33040,\n",
       " 'end': 33047,\n",
       " 'answer': 'all one'}"
      ]
     },
     "execution_count": 16,
     "metadata": {},
     "output_type": "execute_result"
    }
   ],
   "source": [
    "qa_transformer(context=genesis, question=question)"
   ]
  },
  {
   "cell_type": "code",
   "execution_count": 17,
   "id": "f8674c54",
   "metadata": {},
   "outputs": [],
   "source": [
    "question = \"How many children does Abraham have?\""
   ]
  },
  {
   "cell_type": "code",
   "execution_count": 18,
   "id": "9bcaa4cf",
   "metadata": {},
   "outputs": [
    {
     "data": {
      "text/plain": [
       "{'score': 0.7621734738349915, 'start': 28324, 'end': 28329, 'answer': 'three'}"
      ]
     },
     "execution_count": 18,
     "metadata": {},
     "output_type": "execute_result"
    }
   ],
   "source": [
    "qa_transformer(context=genesis, question=question)"
   ]
  },
  {
   "cell_type": "code",
   "execution_count": 19,
   "id": "97f38ed3",
   "metadata": {},
   "outputs": [],
   "source": [
    "question = \"What are Abraham's children's names?\""
   ]
  },
  {
   "cell_type": "code",
   "execution_count": 20,
   "id": "a30e7420",
   "metadata": {},
   "outputs": [
    {
     "data": {
      "text/plain": [
       "{'score': 0.9911929965019226,\n",
       " 'start': 21529,\n",
       " 'end': 21553,\n",
       " 'answer': 'Shem and Ham and Japheth'}"
      ]
     },
     "execution_count": 20,
     "metadata": {},
     "output_type": "execute_result"
    }
   ],
   "source": [
    "qa_transformer(context=genesis, question=question)"
   ]
  },
  {
   "cell_type": "code",
   "execution_count": 21,
   "id": "7c62ac3e",
   "metadata": {},
   "outputs": [],
   "source": [
    "question = \"Are man and woman equal?\""
   ]
  },
  {
   "cell_type": "code",
   "execution_count": 22,
   "id": "c4222849",
   "metadata": {},
   "outputs": [
    {
     "data": {
      "text/plain": [
       "{'score': 0.31299641728401184,\n",
       " 'start': 148115,\n",
       " 'end': 148156,\n",
       " 'answer': 'He is not greater in this house than I am'}"
      ]
     },
     "execution_count": 22,
     "metadata": {},
     "output_type": "execute_result"
    }
   ],
   "source": [
    "qa_transformer(context=genesis, question=question)"
   ]
  },
  {
   "cell_type": "markdown",
   "id": "8089edbf",
   "metadata": {},
   "source": [
    "## OpenAI Q&A System"
   ]
  },
  {
   "cell_type": "code",
   "execution_count": 24,
   "id": "159584bc",
   "metadata": {},
   "outputs": [],
   "source": [
    "import os\n",
    "import openai\n",
    "openai.api_key = os.getenv(\"OPENAI_API_KEY\")"
   ]
  },
  {
   "cell_type": "code",
   "execution_count": 31,
   "id": "f0ecb433",
   "metadata": {},
   "outputs": [],
   "source": [
    "response = openai.Completion.create(model=\"text-davinci-003\",\n",
    "                                    prompt=\"Are man and woman equal?\",\n",
    "                                    temperature=0,\n",
    "                                    max_tokens=100)"
   ]
  },
  {
   "cell_type": "code",
   "execution_count": 32,
   "id": "e76f465f",
   "metadata": {},
   "outputs": [
    {
     "name": "stdout",
     "output_type": "stream",
     "text": [
      "('Yes, man and woman are equal. All people should be treated with respect and '\n",
      " 'dignity regardless of gender.')\n"
     ]
    }
   ],
   "source": [
    "pprint(response.choices[0].text.strip())"
   ]
  },
  {
   "cell_type": "code",
   "execution_count": null,
   "id": "7435b03f",
   "metadata": {},
   "outputs": [],
   "source": []
  }
 ],
 "metadata": {
  "kernelspec": {
   "display_name": "Python 3",
   "language": "python",
   "name": "python3"
  },
  "language_info": {
   "codemirror_mode": {
    "name": "ipython",
    "version": 3
   },
   "file_extension": ".py",
   "mimetype": "text/x-python",
   "name": "python",
   "nbconvert_exporter": "python",
   "pygments_lexer": "ipython3",
   "version": "3.9.12"
  }
 },
 "nbformat": 4,
 "nbformat_minor": 5
}
