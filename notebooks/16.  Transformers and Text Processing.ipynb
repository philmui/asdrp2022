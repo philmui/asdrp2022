{
 "cells": [
  {
   "cell_type": "markdown",
   "id": "23fe83be",
   "metadata": {},
   "source": [
    "# Transformers and Text Processing"
   ]
  },
  {
   "cell_type": "markdown",
   "id": "cd9472df",
   "metadata": {},
   "source": [
    "## 1.  Sentiment Analysis with Transformers"
   ]
  },
  {
   "cell_type": "code",
   "execution_count": 1,
   "id": "6620de5f",
   "metadata": {},
   "outputs": [],
   "source": [
    "import numpy as np\n",
    "import pandas as pd\n",
    "import seaborn as sns\n",
    "import matplotlib.pyplot as plt\n",
    "\n",
    "from sklearn.metrics import roc_auc_score, f1_score, confusion_matrix\n",
    "from sklearn.model_selection import train_test_split"
   ]
  },
  {
   "cell_type": "code",
   "execution_count": 2,
   "id": "f22e5ed7",
   "metadata": {},
   "outputs": [],
   "source": [
    "import torch"
   ]
  },
  {
   "cell_type": "code",
   "execution_count": 3,
   "id": "b64fc56f",
   "metadata": {},
   "outputs": [],
   "source": [
    "from transformers import pipeline"
   ]
  },
  {
   "cell_type": "code",
   "execution_count": 6,
   "id": "8e6c15c9",
   "metadata": {},
   "outputs": [],
   "source": [
    "INPUT_DATA = \"../data/airline_tweets.csv\""
   ]
  },
  {
   "cell_type": "code",
   "execution_count": 7,
   "id": "7f94ff9a",
   "metadata": {},
   "outputs": [
    {
     "data": {
      "text/html": [
       "<div>\n",
       "<style scoped>\n",
       "    .dataframe tbody tr th:only-of-type {\n",
       "        vertical-align: middle;\n",
       "    }\n",
       "\n",
       "    .dataframe tbody tr th {\n",
       "        vertical-align: top;\n",
       "    }\n",
       "\n",
       "    .dataframe thead th {\n",
       "        text-align: right;\n",
       "    }\n",
       "</style>\n",
       "<table border=\"1\" class=\"dataframe\">\n",
       "  <thead>\n",
       "    <tr style=\"text-align: right;\">\n",
       "      <th></th>\n",
       "      <th>tweet_id</th>\n",
       "      <th>airline_sentiment</th>\n",
       "      <th>airline_sentiment_confidence</th>\n",
       "      <th>negativereason</th>\n",
       "      <th>negativereason_confidence</th>\n",
       "      <th>airline</th>\n",
       "      <th>airline_sentiment_gold</th>\n",
       "      <th>name</th>\n",
       "      <th>negativereason_gold</th>\n",
       "      <th>retweet_count</th>\n",
       "      <th>text</th>\n",
       "      <th>tweet_coord</th>\n",
       "      <th>tweet_created</th>\n",
       "      <th>tweet_location</th>\n",
       "      <th>user_timezone</th>\n",
       "    </tr>\n",
       "  </thead>\n",
       "  <tbody>\n",
       "    <tr>\n",
       "      <th>0</th>\n",
       "      <td>570306133677760513</td>\n",
       "      <td>neutral</td>\n",
       "      <td>1.0000</td>\n",
       "      <td>NaN</td>\n",
       "      <td>NaN</td>\n",
       "      <td>Virgin America</td>\n",
       "      <td>NaN</td>\n",
       "      <td>cairdin</td>\n",
       "      <td>NaN</td>\n",
       "      <td>0</td>\n",
       "      <td>@VirginAmerica What @dhepburn said.</td>\n",
       "      <td>NaN</td>\n",
       "      <td>2015-02-24 11:35:52 -0800</td>\n",
       "      <td>NaN</td>\n",
       "      <td>Eastern Time (US &amp; Canada)</td>\n",
       "    </tr>\n",
       "    <tr>\n",
       "      <th>1</th>\n",
       "      <td>570301130888122368</td>\n",
       "      <td>positive</td>\n",
       "      <td>0.3486</td>\n",
       "      <td>NaN</td>\n",
       "      <td>0.0</td>\n",
       "      <td>Virgin America</td>\n",
       "      <td>NaN</td>\n",
       "      <td>jnardino</td>\n",
       "      <td>NaN</td>\n",
       "      <td>0</td>\n",
       "      <td>@VirginAmerica plus you've added commercials t...</td>\n",
       "      <td>NaN</td>\n",
       "      <td>2015-02-24 11:15:59 -0800</td>\n",
       "      <td>NaN</td>\n",
       "      <td>Pacific Time (US &amp; Canada)</td>\n",
       "    </tr>\n",
       "    <tr>\n",
       "      <th>2</th>\n",
       "      <td>570301083672813571</td>\n",
       "      <td>neutral</td>\n",
       "      <td>0.6837</td>\n",
       "      <td>NaN</td>\n",
       "      <td>NaN</td>\n",
       "      <td>Virgin America</td>\n",
       "      <td>NaN</td>\n",
       "      <td>yvonnalynn</td>\n",
       "      <td>NaN</td>\n",
       "      <td>0</td>\n",
       "      <td>@VirginAmerica I didn't today... Must mean I n...</td>\n",
       "      <td>NaN</td>\n",
       "      <td>2015-02-24 11:15:48 -0800</td>\n",
       "      <td>Lets Play</td>\n",
       "      <td>Central Time (US &amp; Canada)</td>\n",
       "    </tr>\n",
       "  </tbody>\n",
       "</table>\n",
       "</div>"
      ],
      "text/plain": [
       "             tweet_id airline_sentiment  airline_sentiment_confidence  \\\n",
       "0  570306133677760513           neutral                        1.0000   \n",
       "1  570301130888122368          positive                        0.3486   \n",
       "2  570301083672813571           neutral                        0.6837   \n",
       "\n",
       "  negativereason  negativereason_confidence         airline  \\\n",
       "0            NaN                        NaN  Virgin America   \n",
       "1            NaN                        0.0  Virgin America   \n",
       "2            NaN                        NaN  Virgin America   \n",
       "\n",
       "  airline_sentiment_gold        name negativereason_gold  retweet_count  \\\n",
       "0                    NaN     cairdin                 NaN              0   \n",
       "1                    NaN    jnardino                 NaN              0   \n",
       "2                    NaN  yvonnalynn                 NaN              0   \n",
       "\n",
       "                                                text tweet_coord  \\\n",
       "0                @VirginAmerica What @dhepburn said.         NaN   \n",
       "1  @VirginAmerica plus you've added commercials t...         NaN   \n",
       "2  @VirginAmerica I didn't today... Must mean I n...         NaN   \n",
       "\n",
       "               tweet_created tweet_location               user_timezone  \n",
       "0  2015-02-24 11:35:52 -0800            NaN  Eastern Time (US & Canada)  \n",
       "1  2015-02-24 11:15:59 -0800            NaN  Pacific Time (US & Canada)  \n",
       "2  2015-02-24 11:15:48 -0800      Lets Play  Central Time (US & Canada)  "
      ]
     },
     "execution_count": 7,
     "metadata": {},
     "output_type": "execute_result"
    }
   ],
   "source": [
    "raw = pd.read_csv(INPUT_DATA)\n",
    "raw.head(3)"
   ]
  },
  {
   "cell_type": "code",
   "execution_count": 8,
   "id": "249a8e22",
   "metadata": {},
   "outputs": [],
   "source": [
    "df = raw[['airline_sentiment', 'text']]"
   ]
  },
  {
   "cell_type": "code",
   "execution_count": 9,
   "id": "c7d6eac8",
   "metadata": {},
   "outputs": [
    {
     "data": {
      "text/html": [
       "<div>\n",
       "<style scoped>\n",
       "    .dataframe tbody tr th:only-of-type {\n",
       "        vertical-align: middle;\n",
       "    }\n",
       "\n",
       "    .dataframe tbody tr th {\n",
       "        vertical-align: top;\n",
       "    }\n",
       "\n",
       "    .dataframe thead th {\n",
       "        text-align: right;\n",
       "    }\n",
       "</style>\n",
       "<table border=\"1\" class=\"dataframe\">\n",
       "  <thead>\n",
       "    <tr style=\"text-align: right;\">\n",
       "      <th></th>\n",
       "      <th>airline_sentiment</th>\n",
       "      <th>text</th>\n",
       "    </tr>\n",
       "  </thead>\n",
       "  <tbody>\n",
       "    <tr>\n",
       "      <th>0</th>\n",
       "      <td>neutral</td>\n",
       "      <td>@VirginAmerica What @dhepburn said.</td>\n",
       "    </tr>\n",
       "    <tr>\n",
       "      <th>1</th>\n",
       "      <td>positive</td>\n",
       "      <td>@VirginAmerica plus you've added commercials t...</td>\n",
       "    </tr>\n",
       "    <tr>\n",
       "      <th>2</th>\n",
       "      <td>neutral</td>\n",
       "      <td>@VirginAmerica I didn't today... Must mean I n...</td>\n",
       "    </tr>\n",
       "    <tr>\n",
       "      <th>3</th>\n",
       "      <td>negative</td>\n",
       "      <td>@VirginAmerica it's really aggressive to blast...</td>\n",
       "    </tr>\n",
       "    <tr>\n",
       "      <th>4</th>\n",
       "      <td>negative</td>\n",
       "      <td>@VirginAmerica and it's a really big bad thing...</td>\n",
       "    </tr>\n",
       "  </tbody>\n",
       "</table>\n",
       "</div>"
      ],
      "text/plain": [
       "  airline_sentiment                                               text\n",
       "0           neutral                @VirginAmerica What @dhepburn said.\n",
       "1          positive  @VirginAmerica plus you've added commercials t...\n",
       "2           neutral  @VirginAmerica I didn't today... Must mean I n...\n",
       "3          negative  @VirginAmerica it's really aggressive to blast...\n",
       "4          negative  @VirginAmerica and it's a really big bad thing..."
      ]
     },
     "execution_count": 9,
     "metadata": {},
     "output_type": "execute_result"
    }
   ],
   "source": [
    "df.head(5)"
   ]
  },
  {
   "cell_type": "code",
   "execution_count": 10,
   "id": "dda69d44",
   "metadata": {},
   "outputs": [
    {
     "data": {
      "text/plain": [
       "airline_sentiment    0\n",
       "text                 0\n",
       "dtype: int64"
      ]
     },
     "execution_count": 10,
     "metadata": {},
     "output_type": "execute_result"
    }
   ],
   "source": [
    "df.isna().sum()"
   ]
  },
  {
   "cell_type": "code",
   "execution_count": 11,
   "id": "6870ef1b",
   "metadata": {},
   "outputs": [
    {
     "data": {
      "text/plain": [
       "<matplotlib.axes._subplots.AxesSubplot at 0x7fd479334940>"
      ]
     },
     "execution_count": 11,
     "metadata": {},
     "output_type": "execute_result"
    },
    {
     "data": {
      "image/png": "[encoded data removed]",
      "text/plain": [
       "<Figure size 432x288 with 1 Axes>"
      ]
     },
     "metadata": {
      "needs_background": "light"
     },
     "output_type": "display_data"
    }
   ],
   "source": [
    "df.airline_sentiment.hist()"
   ]
  },
  {
   "cell_type": "code",
   "execution_count": 12,
   "id": "94b80d0a",
   "metadata": {},
   "outputs": [
    {
     "name": "stderr",
     "output_type": "stream",
     "text": [
      "No model was supplied, defaulted to distilbert-base-uncased-finetuned-sst-2-english and revision af0f99b (https://huggingface.co/distilbert-base-uncased-finetuned-sst-2-english).\n",
      "Using a pipeline without specifying a model name and revision in production is not recommended.\n"
     ]
    }
   ],
   "source": [
    "classifier = pipeline(\"sentiment-analysis\")"
   ]
  },
  {
   "cell_type": "code",
   "execution_count": 13,
   "id": "2b00699e",
   "metadata": {},
   "outputs": [],
   "source": [
    "s1 = \"This is a great book\"\n",
    "s2 = \"We did not enjoy the movie at all\""
   ]
  },
  {
   "cell_type": "code",
   "execution_count": 14,
   "id": "78a73a03",
   "metadata": {},
   "outputs": [
    {
     "data": {
      "text/plain": [
       "[{'label': 'POSITIVE', 'score': 0.999872088432312}]"
      ]
     },
     "execution_count": 14,
     "metadata": {},
     "output_type": "execute_result"
    }
   ],
   "source": [
    "classifier(s1)"
   ]
  },
  {
   "cell_type": "code",
   "execution_count": 15,
   "id": "7bdee058",
   "metadata": {},
   "outputs": [
    {
     "data": {
      "text/plain": [
       "[{'label': 'NEGATIVE', 'score': 0.9993563294410706}]"
      ]
     },
     "execution_count": 15,
     "metadata": {},
     "output_type": "execute_result"
    }
   ],
   "source": [
    "classifier(s2)"
   ]
  },
  {
   "cell_type": "code",
   "execution_count": 16,
   "id": "cd95792f",
   "metadata": {},
   "outputs": [
    {
     "data": {
      "text/plain": [
       "<matplotlib.axes._subplots.AxesSubplot at 0x7fd4ba7cd9a0>"
      ]
     },
     "execution_count": 16,
     "metadata": {},
     "output_type": "execute_result"
    },
    {
     "data": {
      "image/png": "[encoded data removed]",
      "text/plain": [
       "<Figure size 432x288 with 1 Axes>"
      ]
     },
     "metadata": {
      "needs_background": "light"
     },
     "output_type": "display_data"
    }
   ],
   "source": [
    "df = df[df.airline_sentiment != 'neutral']\n",
    "df.airline_sentiment.hist()"
   ]
  },
  {
   "cell_type": "code",
   "execution_count": 17,
   "id": "45789b99",
   "metadata": {},
   "outputs": [
    {
     "data": {
      "text/plain": [
       "(11541, 2)"
      ]
     },
     "execution_count": 17,
     "metadata": {},
     "output_type": "execute_result"
    }
   ],
   "source": [
    "df.shape"
   ]
  },
  {
   "cell_type": "code",
   "execution_count": 18,
   "id": "62609a8c",
   "metadata": {},
   "outputs": [
    {
     "data": {
      "text/html": [
       "<div>\n",
       "<style scoped>\n",
       "    .dataframe tbody tr th:only-of-type {\n",
       "        vertical-align: middle;\n",
       "    }\n",
       "\n",
       "    .dataframe tbody tr th {\n",
       "        vertical-align: top;\n",
       "    }\n",
       "\n",
       "    .dataframe thead th {\n",
       "        text-align: right;\n",
       "    }\n",
       "</style>\n",
       "<table border=\"1\" class=\"dataframe\">\n",
       "  <thead>\n",
       "    <tr style=\"text-align: right;\">\n",
       "      <th></th>\n",
       "      <th>airline_sentiment</th>\n",
       "      <th>text</th>\n",
       "    </tr>\n",
       "  </thead>\n",
       "  <tbody>\n",
       "    <tr>\n",
       "      <th>1</th>\n",
       "      <td>positive</td>\n",
       "      <td>@VirginAmerica plus you've added commercials t...</td>\n",
       "    </tr>\n",
       "    <tr>\n",
       "      <th>3</th>\n",
       "      <td>negative</td>\n",
       "      <td>@VirginAmerica it's really aggressive to blast...</td>\n",
       "    </tr>\n",
       "  </tbody>\n",
       "</table>\n",
       "</div>"
      ],
      "text/plain": [
       "  airline_sentiment                                               text\n",
       "1          positive  @VirginAmerica plus you've added commercials t...\n",
       "3          negative  @VirginAmerica it's really aggressive to blast..."
      ]
     },
     "execution_count": 18,
     "metadata": {},
     "output_type": "execute_result"
    }
   ],
   "source": [
    "df.head(2)"
   ]
  },
  {
   "cell_type": "code",
   "execution_count": 19,
   "id": "3fa7d13c",
   "metadata": {},
   "outputs": [],
   "source": [
    "predictions = classifier(df.text.tolist())"
   ]
  },
  {
   "cell_type": "code",
   "execution_count": 20,
   "id": "4727541b",
   "metadata": {},
   "outputs": [
    {
     "data": {
      "text/plain": [
       "[{'label': 'POSITIVE', 'score': 0.6070873737335205},\n",
       " {'label': 'NEGATIVE', 'score': 0.9973449110984802},\n",
       " {'label': 'NEGATIVE', 'score': 0.9995823502540588},\n",
       " {'label': 'NEGATIVE', 'score': 0.9854251742362976},\n",
       " {'label': 'POSITIVE', 'score': 0.9553210139274597},\n",
       " {'label': 'POSITIVE', 'score': 0.9827088117599487},\n",
       " {'label': 'POSITIVE', 'score': 0.9994851350784302},\n",
       " {'label': 'POSITIVE', 'score': 0.9993509650230408}]"
      ]
     },
     "execution_count": 20,
     "metadata": {},
     "output_type": "execute_result"
    }
   ],
   "source": [
    "predictions[:8]"
   ]
  },
  {
   "cell_type": "markdown",
   "id": "372f720e",
   "metadata": {},
   "source": [
    "## Evaluate how good the \"model\" is"
   ]
  },
  {
   "cell_type": "code",
   "execution_count": 21,
   "id": "38992eed",
   "metadata": {},
   "outputs": [],
   "source": [
    "probs = [ p['score'] if p['label'].startswith('P') else (1 - p['score']) for p in predictions ]"
   ]
  },
  {
   "cell_type": "code",
   "execution_count": 22,
   "id": "e938116a",
   "metadata": {},
   "outputs": [
    {
     "data": {
      "text/plain": [
       "[0.6070873737335205,\n",
       " 0.0026550889015197754,\n",
       " 0.0004176497459411621,\n",
       " 0.014574825763702393,\n",
       " 0.9553210139274597,\n",
       " 0.9827088117599487,\n",
       " 0.9994851350784302,\n",
       " 0.9993509650230408]"
      ]
     },
     "execution_count": 22,
     "metadata": {},
     "output_type": "execute_result"
    }
   ],
   "source": [
    "probs[:8]"
   ]
  },
  {
   "cell_type": "code",
   "execution_count": 23,
   "id": "9c8780aa",
   "metadata": {},
   "outputs": [],
   "source": [
    "preds = [1 if p['label'].startswith('P') else 0 for p in predictions]"
   ]
  },
  {
   "cell_type": "code",
   "execution_count": 24,
   "id": "34c73bf6",
   "metadata": {},
   "outputs": [
    {
     "data": {
      "text/plain": [
       "[1, 0, 0, 0, 1, 1, 1, 1]"
      ]
     },
     "execution_count": 24,
     "metadata": {},
     "output_type": "execute_result"
    }
   ],
   "source": [
    "preds[:8]"
   ]
  },
  {
   "cell_type": "code",
   "execution_count": 25,
   "id": "5b80861d",
   "metadata": {},
   "outputs": [
    {
     "data": {
      "text/plain": [
       "1    positive\n",
       "3    negative\n",
       "Name: airline_sentiment, dtype: object"
      ]
     },
     "execution_count": 25,
     "metadata": {},
     "output_type": "execute_result"
    }
   ],
   "source": [
    "df.airline_sentiment.head(2)"
   ]
  },
  {
   "cell_type": "code",
   "execution_count": 28,
   "id": "6062567d",
   "metadata": {},
   "outputs": [
    {
     "name": "stderr",
     "output_type": "stream",
     "text": [
      "<ipython-input-28-9845a14285ae>:4: SettingWithCopyWarning: \n",
      "A value is trying to be set on a copy of a slice from a DataFrame.\n",
      "Try using .loc[row_indexer,col_indexer] = value instead\n",
      "\n",
      "See the caveats in the documentation: https://pandas.pydata.org/pandas-docs/stable/user_guide/indexing.html#returning-a-view-versus-a-copy\n",
      "  df['target'] = df['airline_sentiment'].map(sentiment_map)\n"
     ]
    },
    {
     "data": {
      "text/html": [
       "<div>\n",
       "<style scoped>\n",
       "    .dataframe tbody tr th:only-of-type {\n",
       "        vertical-align: middle;\n",
       "    }\n",
       "\n",
       "    .dataframe tbody tr th {\n",
       "        vertical-align: top;\n",
       "    }\n",
       "\n",
       "    .dataframe thead th {\n",
       "        text-align: right;\n",
       "    }\n",
       "</style>\n",
       "<table border=\"1\" class=\"dataframe\">\n",
       "  <thead>\n",
       "    <tr style=\"text-align: right;\">\n",
       "      <th></th>\n",
       "      <th>airline_sentiment</th>\n",
       "      <th>text</th>\n",
       "      <th>target</th>\n",
       "    </tr>\n",
       "  </thead>\n",
       "  <tbody>\n",
       "    <tr>\n",
       "      <th>1</th>\n",
       "      <td>positive</td>\n",
       "      <td>@VirginAmerica plus you've added commercials t...</td>\n",
       "      <td>1</td>\n",
       "    </tr>\n",
       "    <tr>\n",
       "      <th>3</th>\n",
       "      <td>negative</td>\n",
       "      <td>@VirginAmerica it's really aggressive to blast...</td>\n",
       "      <td>0</td>\n",
       "    </tr>\n",
       "    <tr>\n",
       "      <th>4</th>\n",
       "      <td>negative</td>\n",
       "      <td>@VirginAmerica and it's a really big bad thing...</td>\n",
       "      <td>0</td>\n",
       "    </tr>\n",
       "    <tr>\n",
       "      <th>5</th>\n",
       "      <td>negative</td>\n",
       "      <td>@VirginAmerica seriously would pay $30 a fligh...</td>\n",
       "      <td>0</td>\n",
       "    </tr>\n",
       "    <tr>\n",
       "      <th>6</th>\n",
       "      <td>positive</td>\n",
       "      <td>@VirginAmerica yes, nearly every time I fly VX...</td>\n",
       "      <td>1</td>\n",
       "    </tr>\n",
       "  </tbody>\n",
       "</table>\n",
       "</div>"
      ],
      "text/plain": [
       "  airline_sentiment                                               text  target\n",
       "1          positive  @VirginAmerica plus you've added commercials t...       1\n",
       "3          negative  @VirginAmerica it's really aggressive to blast...       0\n",
       "4          negative  @VirginAmerica and it's a really big bad thing...       0\n",
       "5          negative  @VirginAmerica seriously would pay $30 a fligh...       0\n",
       "6          positive  @VirginAmerica yes, nearly every time I fly VX...       1"
      ]
     },
     "execution_count": 28,
     "metadata": {},
     "output_type": "execute_result"
    }
   ],
   "source": [
    "# map 'positive' to 1 and 'negative' to 0\n",
    "sentiment_map = {'positive': 1, 'negative': 0}\n",
    "\n",
    "df['target'] = df['airline_sentiment'].map(sentiment_map)\n",
    "df.head(5)"
   ]
  },
  {
   "cell_type": "code",
   "execution_count": 29,
   "id": "04d59e0c",
   "metadata": {},
   "outputs": [
    {
     "data": {
      "text/plain": [
       "0.8898708950697514"
      ]
     },
     "execution_count": 29,
     "metadata": {},
     "output_type": "execute_result"
    }
   ],
   "source": [
    "# What's the accuracy of our model compare to the \"golden truth\": column 'airline_sentiment'\n",
    "\n",
    "np.mean(df['target'] == preds)"
   ]
  },
  {
   "cell_type": "code",
   "execution_count": 30,
   "id": "6bef54b7",
   "metadata": {},
   "outputs": [],
   "source": [
    "cm = confusion_matrix(df['target'], preds)"
   ]
  },
  {
   "cell_type": "code",
   "execution_count": 31,
   "id": "606cc16d",
   "metadata": {},
   "outputs": [
    {
     "data": {
      "text/plain": [
       "array([[8271,  907],\n",
       "       [ 364, 1999]])"
      ]
     },
     "execution_count": 31,
     "metadata": {},
     "output_type": "execute_result"
    }
   ],
   "source": [
    "cm"
   ]
  },
  {
   "cell_type": "code",
   "execution_count": 32,
   "id": "36455115",
   "metadata": {},
   "outputs": [
    {
     "data": {
      "text/plain": [
       "0.7587777566900741"
      ]
     },
     "execution_count": 32,
     "metadata": {},
     "output_type": "execute_result"
    }
   ],
   "source": [
    "f1_score(df['target'], preds)"
   ]
  },
  {
   "cell_type": "code",
   "execution_count": 33,
   "id": "1da57987",
   "metadata": {},
   "outputs": [
    {
     "data": {
      "text/plain": [
       "0.948593515174145"
      ]
     },
     "execution_count": 33,
     "metadata": {},
     "output_type": "execute_result"
    }
   ],
   "source": [
    "roc_auc_score(df['target'], probs)"
   ]
  },
  {
   "cell_type": "markdown",
   "id": "1b4f07cf",
   "metadata": {},
   "source": [
    "## Text Generation with HuggingFace"
   ]
  },
  {
   "cell_type": "code",
   "execution_count": 34,
   "id": "37af2050",
   "metadata": {},
   "outputs": [],
   "source": [
    "from pprint import pprint"
   ]
  },
  {
   "cell_type": "code",
   "execution_count": 35,
   "id": "2c5f4002",
   "metadata": {},
   "outputs": [],
   "source": [
    "text_transformer = pipeline('text-generation', model='gpt2')"
   ]
  },
  {
   "cell_type": "code",
   "execution_count": 37,
   "id": "c720c241",
   "metadata": {},
   "outputs": [],
   "source": [
    "output = text_transformer(\"Transformers are neural networks with attention have been used with great success recently\",\n",
    "                          max_length=100,\n",
    "                          pad_token_id=50256)"
   ]
  },
  {
   "cell_type": "code",
   "execution_count": 39,
   "id": "a353bf4d",
   "metadata": {},
   "outputs": [
    {
     "data": {
      "text/plain": [
       "[{'generated_text': 'Transformers are neural networks with attention have been used with great success recently and they offer interesting approaches. However, their application has been limited by the limitations of previous models and computational complexity. A good review of these issues can be obtained in this post.'}]"
      ]
     },
     "execution_count": 39,
     "metadata": {},
     "output_type": "execute_result"
    }
   ],
   "source": [
    "output"
   ]
  },
  {
   "cell_type": "code",
   "execution_count": 41,
   "id": "8e195c68",
   "metadata": {},
   "outputs": [
    {
     "name": "stdout",
     "output_type": "stream",
     "text": [
      "('Transformers are neural networks with attention have been used with great '\n",
      " 'success recently and they offer interesting approaches. However, their '\n",
      " 'application has been limited by the limitations of previous models and '\n",
      " 'computational complexity. A good review of these issues can be obtained in '\n",
      " 'this post.')\n"
     ]
    }
   ],
   "source": [
    "pprint(output[0]['generated_text'])"
   ]
  },
  {
   "cell_type": "code",
   "execution_count": 42,
   "id": "8957e044",
   "metadata": {},
   "outputs": [],
   "source": [
    "prompt = \"\"\"\n",
    "Transformers are neural networks with attention have been used with great success recently\n",
    "\"\"\"\n",
    "\n",
    "output = text_transformer(prompt,\n",
    "                          max_length=100,\n",
    "                          num_return_sequences=5,\n",
    "                          pad_token_id=50256)"
   ]
  },
  {
   "cell_type": "code",
   "execution_count": 43,
   "id": "18c01356",
   "metadata": {},
   "outputs": [
    {
     "data": {
      "text/plain": [
       "5"
      ]
     },
     "execution_count": 43,
     "metadata": {},
     "output_type": "execute_result"
    }
   ],
   "source": [
    "len(output)"
   ]
  },
  {
   "cell_type": "code",
   "execution_count": 44,
   "id": "d8c7b421",
   "metadata": {},
   "outputs": [
    {
     "data": {
      "text/plain": [
       "[{'generated_text': \"\\nTransformers are neural networks with attention have been used with great success recently\\n\\nThis new study examines the performance of a specific task, and compares the performance of those who perform the task and those who don't (with those who performed it without processing it). The findings show different results and the differences (in terms of neural processing time and latency) between tasks are not significant. This study was carried out as part of a larger investigation within the Neuropsychiatry and Behavior group at the N\"},\n",
       " {'generated_text': '\\nTransformers are neural networks with attention have been used with great success recently\\n\\nThe neural network that makes the difference between the real world and the real world has an astonishing speed, but it uses only one type of word and word recognition.\\n\\nThe network is called \"revised-image\" for short, because it is able to detect those moments of the image when the word has a better chance of forming any shape.\\n\\nThe study published in the journal Nature Communications showed it could'},\n",
       " {'generated_text': \"\\nTransformers are neural networks with attention have been used with great success recently\\n\\nYou have had problems with it because it takes far too long to change a word in a text like 'Bastard', with just a millisecond or so. However, a neural network like this might be useful even if you have a high memory bandwidth or very slow computing.\\n\\nNeural networks use two inputs: the input channel at the moment when it is read, and the output channel on the moment\"},\n",
       " {'generated_text': '\\nTransformers are neural networks with attention have been used with great success recently\\n\\nBut, what makes the robot that\\'s in this episode really interesting is that it\\'s all been tested before, so you can see why it makes us think! Here\\'s what he told me he said from the beginning:\\n\\n\"…the first step towards the design of a functional brain, which I call a neural network (N-network), is to look into the first few milliseconds, then the human brain …'},\n",
       " {'generated_text': '\\nTransformers are neural networks with attention have been used with great success recently\\n\\nThe problem, as we\\'ll see, is to work with a very different pattern. We have different attention patterns because the neuron gets activated during the processing of different images. That\\'s why we call it \"superlattice\".\\n\\nFirst, there\\'s a process called \"subcortical learning\" whereby subcortical neurons learn different patterns of patterns of brain activity - and these may be the same'}]"
      ]
     },
     "execution_count": 44,
     "metadata": {},
     "output_type": "execute_result"
    }
   ],
   "source": [
    "output"
   ]
  },
  {
   "cell_type": "code",
   "execution_count": 45,
   "id": "34e290fd",
   "metadata": {},
   "outputs": [
    {
     "name": "stdout",
     "output_type": "stream",
     "text": [
      "[{'generated_text': '\\n'\n",
      "                    'Transformers are neural networks with attention have been '\n",
      "                    'used with great success recently\\n'\n",
      "                    '\\n'\n",
      "                    'This new study examines the performance of a specific '\n",
      "                    'task, and compares the performance of those who perform '\n",
      "                    \"the task and those who don't (with those who performed it \"\n",
      "                    'without processing it). The findings show different '\n",
      "                    'results and the differences (in terms of neural '\n",
      "                    'processing time and latency) between tasks are not '\n",
      "                    'significant. This study was carried out as part of a '\n",
      "                    'larger investigation within the Neuropsychiatry and '\n",
      "                    'Behavior group at the N'},\n",
      " {'generated_text': '\\n'\n",
      "                    'Transformers are neural networks with attention have been '\n",
      "                    'used with great success recently\\n'\n",
      "                    '\\n'\n",
      "                    'The neural network that makes the difference between the '\n",
      "                    'real world and the real world has an astonishing speed, '\n",
      "                    'but it uses only one type of word and word recognition.\\n'\n",
      "                    '\\n'\n",
      "                    'The network is called \"revised-image\" for short, because '\n",
      "                    'it is able to detect those moments of the image when the '\n",
      "                    'word has a better chance of forming any shape.\\n'\n",
      "                    '\\n'\n",
      "                    'The study published in the journal Nature Communications '\n",
      "                    'showed it could'},\n",
      " {'generated_text': '\\n'\n",
      "                    'Transformers are neural networks with attention have been '\n",
      "                    'used with great success recently\\n'\n",
      "                    '\\n'\n",
      "                    'You have had problems with it because it takes far too '\n",
      "                    \"long to change a word in a text like 'Bastard', with just \"\n",
      "                    'a millisecond or so. However, a neural network like this '\n",
      "                    'might be useful even if you have a high memory bandwidth '\n",
      "                    'or very slow computing.\\n'\n",
      "                    '\\n'\n",
      "                    'Neural networks use two inputs: the input channel at the '\n",
      "                    'moment when it is read, and the output channel on the '\n",
      "                    'moment'},\n",
      " {'generated_text': '\\n'\n",
      "                    'Transformers are neural networks with attention have been '\n",
      "                    'used with great success recently\\n'\n",
      "                    '\\n'\n",
      "                    \"But, what makes the robot that's in this episode really \"\n",
      "                    \"interesting is that it's all been tested before, so you \"\n",
      "                    \"can see why it makes us think! Here's what he told me he \"\n",
      "                    'said from the beginning:\\n'\n",
      "                    '\\n'\n",
      "                    '\"…the first step towards the design of a functional '\n",
      "                    'brain, which I call a neural network (N-network), is to '\n",
      "                    'look into the first few milliseconds, then the human '\n",
      "                    'brain …'},\n",
      " {'generated_text': '\\n'\n",
      "                    'Transformers are neural networks with attention have been '\n",
      "                    'used with great success recently\\n'\n",
      "                    '\\n'\n",
      "                    \"The problem, as we'll see, is to work with a very \"\n",
      "                    'different pattern. We have different attention patterns '\n",
      "                    'because the neuron gets activated during the processing '\n",
      "                    \"of different images. That's why we call it \"\n",
      "                    '\"superlattice\".\\n'\n",
      "                    '\\n'\n",
      "                    'First, there\\'s a process called \"subcortical learning\" '\n",
      "                    'whereby subcortical neurons learn different patterns of '\n",
      "                    'patterns of brain activity - and these may be the same'}]\n"
     ]
    }
   ],
   "source": [
    "pprint(output)"
   ]
  },
  {
   "cell_type": "code",
   "execution_count": 46,
   "id": "b8d5d58f",
   "metadata": {},
   "outputs": [],
   "source": [
    "FROST_FILENAME = \"../data/robert_frost.txt\"\n",
    "\n",
    "frost_lines = []\n",
    "with open(FROST_FILENAME, \"r\") as file:\n",
    "    frost_lines = file.readlines()\n",
    "    frost_lines = [line.rstrip() for line in frost_lines if len(line) > 0]\n"
   ]
  },
  {
   "cell_type": "code",
   "execution_count": 47,
   "id": "b266aeea",
   "metadata": {},
   "outputs": [
    {
     "data": {
      "text/plain": [
       "['Two roads diverged in a yellow wood,',\n",
       " 'And sorry I could not travel both',\n",
       " 'And be one traveler, long I stood',\n",
       " 'And looked down one as far as I could',\n",
       " 'To where it bent in the undergrowth;']"
      ]
     },
     "execution_count": 47,
     "metadata": {},
     "output_type": "execute_result"
    }
   ],
   "source": [
    "frost_lines[:5]"
   ]
  },
  {
   "cell_type": "code",
   "execution_count": 50,
   "id": "64647ba8",
   "metadata": {},
   "outputs": [],
   "source": [
    "poetry = text_transformer(frost_lines[0], num_return_sequences=3, max_new_tokens=30, pad_token_id=50256)"
   ]
  },
  {
   "cell_type": "code",
   "execution_count": 51,
   "id": "6f24e5b8",
   "metadata": {},
   "outputs": [
    {
     "name": "stdout",
     "output_type": "stream",
     "text": [
      "[{'generated_text': 'Two roads diverged in a yellow wood, with the river below '\n",
      "                    'me in the center. My hand was crossed by a long red '\n",
      "                    'trail, which I made to ascend toward the city while '\n",
      "                    'others went'},\n",
      " {'generated_text': 'Two roads diverged in a yellow wood, there were four '\n",
      "                    'tracks and there were four crossings and we were all in '\n",
      "                    'an area for an hour, and there, we all waited until we '\n",
      "                    'got there'},\n",
      " {'generated_text': 'Two roads diverged in a yellow wood, the road leading '\n",
      "                    \"into the street where the police's vehicle had landed.\\n\"\n",
      "                    '\\n'\n",
      "                    'Police used their weapons against the parked vehicle '\n",
      "                    'after its crash and it was'}]\n"
     ]
    }
   ],
   "source": [
    "pprint(poetry)"
   ]
  },
  {
   "cell_type": "code",
   "execution_count": null,
   "id": "9646a949",
   "metadata": {},
   "outputs": [],
   "source": []
  }
 ],
 "metadata": {
  "kernelspec": {
   "display_name": "Python 3",
   "language": "python",
   "name": "python3"
  },
  "language_info": {
   "codemirror_mode": {
    "name": "ipython",
    "version": 3
   },
   "file_extension": ".py",
   "mimetype": "text/x-python",
   "name": "python",
   "nbconvert_exporter": "python",
   "pygments_lexer": "ipython3",
   "version": "3.9.12"
  }
 },
 "nbformat": 4,
 "nbformat_minor": 5
}
